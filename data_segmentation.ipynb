{
 "cells": [
  {
   "cell_type": "code",
   "execution_count": 1,
   "metadata": {},
   "outputs": [
    {
     "data": {
      "application/vnd.jupyter.widget-view+json": {
       "model_id": "857ad5ab246547da9ff2e06f1e2098f2",
       "version_major": 2,
       "version_minor": 0
      },
      "text/plain": [
       "Loading checkpoint shards:   0%|          | 0/7 [00:00<?, ?it/s]"
      ]
     },
     "metadata": {},
     "output_type": "display_data"
    }
   ],
   "source": [
    "from transformers import AutoTokenizer, AutoModelForCausalLM\n",
    "import torch\n",
    "\n",
    "# Define paths\n",
    "base_dir = \"./groupedSpeeches/speeches_097\"  # Update this path if needed\n",
    "model_path = \"./local_llama3b\"\n",
    "\n",
    "# Load the tokenizer and model\n",
    "tokenizer = AutoTokenizer.from_pretrained(model_path)\n",
    "model = AutoModelForCausalLM.from_pretrained(model_path, torch_dtype=torch.float16)\n",
    "model.eval()\n",
    "\n",
    "# Move model to GPU\n",
    "device = torch.device(\"cuda\" if torch.cuda.is_available() else \"cpu\")\n",
    "model.to(device)\n",
    "\n",
    "# Ensure pad token is set\n",
    "if tokenizer.pad_token is None:\n",
    "    tokenizer.pad_token = tokenizer.eos_token"
   ]
  },
  {
   "cell_type": "code",
   "execution_count": null,
   "metadata": {},
   "outputs": [
    {
     "name": "stderr",
     "output_type": "stream",
     "text": [
      "Asking to truncate to max_length but no maximum length is provided and the model has no predefined maximum length. Default to no truncation.\n"
     ]
    }
   ],
   "source": [
    "import os\n",
    "\n",
    "def calculate_perplexity(data_folder, file_list, prompt=None):\n",
    "    \"\"\"\n",
    "    Calculate the perplexity of text files with a given prompt.\n",
    "\n",
    "    Args:\n",
    "        data_folder (str): Path to the folder containing the text files.\n",
    "        file_list (list): List of file names to calculate perplexity for.\n",
    "        prompt (str): Optional prompt to prepend to the text.\n",
    "\n",
    "    Returns:\n",
    "        dict: A dictionary with file names as keys and their perplexity as values.\n",
    "    \"\"\"\n",
    "    perplexity_results = {}\n",
    "\n",
    "    for file_name in file_list:\n",
    "        file_path = os.path.join(data_folder, file_name)\n",
    "        \n",
    "        # Read the content of the file\n",
    "        with open(file_path, 'r', encoding='utf-8') as file:\n",
    "            text = file.read()\n",
    "        \n",
    "        # Prepend the prompt if provided\n",
    "        if prompt:\n",
    "            text = prompt + \" \" + text\n",
    "        \n",
    "        # Tokenize the text\n",
    "        inputs = tokenizer(text, return_tensors=\"pt\", padding=True, truncation=True).to(device)\n",
    "        \n",
    "        # Get model outputs\n",
    "        with torch.no_grad():\n",
    "            outputs = model(**inputs, labels=inputs[\"input_ids\"])\n",
    "        \n",
    "        # Calculate perplexity\n",
    "        loss = outputs.loss.item()\n",
    "        perplexity = torch.exp(torch.tensor(loss)).item()\n",
    "        \n",
    "        # Store the result\n",
    "        perplexity_results[file_name] = perplexity\n",
    "\n",
    "    return perplexity_results\n",
    "\n",
    "# Example usage\n",
    "data_folder = 'groupedSpeeches/speeches_097'\n",
    "file_list = [\n",
    "    'chunk_26023.txt', 'chunk_51871.txt', 'chunk_14249.txt', 'chunk_9103.txt',\n",
    "    'chunk_49389.txt', 'chunk_9528.txt', 'chunk_57457.txt(1)', 'chunk_6830.txt(v)',\n",
    "    'chunk_9335.txt', 'chunk_29789.txt'\n",
    "]\n",
    "prompt = \"write a speech for a senator in the 97th congress\"\n",
    "\n",
    "# Calculate perplexity with the prompt\n",
    "perplexity_with_prompt = calculate_perplexity(data_folder, file_list, prompt=prompt)\n",
    "\n",
    "# Calculate perplexity without the prompt\n",
    "perplexity_without_prompt = calculate_perplexity(data_folder, file_list, prompt=None)\n",
    "\n",
    "print(\"Perplexity with prompt:\", perplexity_with_prompt)\n",
    "print(\"Perplexity without prompt:\", perplexity_without_prompt)"
   ]
  },
  {
   "cell_type": "code",
   "execution_count": null,
   "metadata": {},
   "outputs": [],
   "source": []
  }
 ],
 "metadata": {
  "kernelspec": {
   "display_name": "base",
   "language": "python",
   "name": "python3"
  },
  "language_info": {
   "codemirror_mode": {
    "name": "ipython",
    "version": 3
   },
   "file_extension": ".py",
   "mimetype": "text/x-python",
   "name": "python",
   "nbconvert_exporter": "python",
   "pygments_lexer": "ipython3",
   "version": "3.9.13"
  }
 },
 "nbformat": 4,
 "nbformat_minor": 2
}
